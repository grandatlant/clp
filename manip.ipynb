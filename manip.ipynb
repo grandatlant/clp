{
 "cells": [
  {
   "cell_type": "code",
   "execution_count": 1,
   "id": "1b301db7-7081-482f-ac4e-9efc0d1f96b7",
   "metadata": {
    "jupyter": {
     "source_hidden": true
    }
   },
   "outputs": [
    {
     "name": "stdout",
     "output_type": "stream",
     "text": [
      "3.13.7 (main, Sep  2 2025, 14:21:46) [Clang 20.1.4 ] on linux\n"
     ]
    }
   ],
   "source": [
    "# Imports\n",
    "import sys\n",
    "import pandas as pd\n",
    "\n",
    "from clp import parse_combat_log\n",
    "\n",
    "print(f'{sys.version} on {sys.platform}')"
   ]
  },
  {
   "cell_type": "code",
   "execution_count": 2,
   "id": "0d5851d7-6871-4752-8b76-6241292159a9",
   "metadata": {
    "jupyter": {
     "source_hidden": true
    }
   },
   "outputs": [],
   "source": [
    "# Initial data (cldf)\n",
    "cldf = pd.DataFrame(parse_combat_log('WoWCombatLog.txt'))\n",
    "#cldf"
   ]
  },
  {
   "cell_type": "code",
   "execution_count": 3,
   "id": "2fd2b5fb-a7e9-4616-97f7-bfcfe519fd7e",
   "metadata": {},
   "outputs": [],
   "source": [
    "# Manipulations\n",
    "groups = cldf.groupby(by=['name'])"
   ]
  }
 ],
 "metadata": {
  "kernelspec": {
   "display_name": "Python 3 (ipykernel)",
   "language": "python",
   "name": "python3"
  },
  "language_info": {
   "codemirror_mode": {
    "name": "ipython",
    "version": 3
   },
   "file_extension": ".py",
   "mimetype": "text/x-python",
   "name": "python",
   "nbconvert_exporter": "python",
   "pygments_lexer": "ipython3",
   "version": "3.13.7"
  }
 },
 "nbformat": 4,
 "nbformat_minor": 5
}
